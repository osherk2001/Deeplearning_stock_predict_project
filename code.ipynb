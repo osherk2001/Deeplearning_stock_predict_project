{
 "cells": [
  {
   "cell_type": "code",
   "execution_count": 13,
   "metadata": {},
   "outputs": [
    {
     "name": "stdout",
     "output_type": "stream",
     "text": [
      "            Date        Open        High         Low       Close       Volume  \\\n",
      "0     2020-01-02   74.059998   75.150002   73.797501   75.087502  135480400.0   \n",
      "1     2020-01-03   74.287498   75.144997   74.125000   74.357498  146322800.0   \n",
      "2     2020-01-06   73.447502   74.989998   73.187500   74.949997  118387200.0   \n",
      "3     2020-01-07   74.959999   75.224998   74.370003   74.597504  108872000.0   \n",
      "4     2020-01-08   74.290001   76.110001   74.290001   75.797501  132079200.0   \n",
      "...          ...         ...         ...         ...         ...          ...   \n",
      "1232  2024-11-22  228.059998  230.720001  228.059998  229.869995   38168300.0   \n",
      "1233  2024-11-25  231.460007  233.250000  229.740005  232.869995   90152800.0   \n",
      "1234  2024-11-26  233.330002  235.570007  233.330002  235.059998   45986200.0   \n",
      "1235  2024-11-27  234.470001  235.690002  233.809998  234.929993   33498400.0   \n",
      "1236  2024-11-29  234.809998  237.809998  233.970001  237.330002   28481400.0   \n",
      "\n",
      "      Unnamed: 6  Unnamed: 7 Ticker   Adj Close  \n",
      "0            NaN         NaN   AAPL   72.796036  \n",
      "1            NaN         NaN   AAPL   72.088295  \n",
      "2            NaN         NaN   AAPL   72.662704  \n",
      "3            NaN         NaN   AAPL   72.320984  \n",
      "4            NaN         NaN   AAPL   73.484344  \n",
      "...          ...         ...    ...         ...  \n",
      "1232         NaN         NaN   AAPL  229.869995  \n",
      "1233         NaN         NaN   AAPL  232.869995  \n",
      "1234         NaN         NaN   AAPL  235.059998  \n",
      "1235         NaN         NaN   AAPL  234.929993  \n",
      "1236         NaN         NaN   AAPL  237.330002  \n",
      "\n",
      "[1237 rows x 10 columns]\n"
     ]
    }
   ],
   "source": [
    "import os\n",
    "import pandas as pd\n",
    "from sklearn.linear_model import LinearRegression\n",
    "\n",
    "# Define the path to the dataset folder\n",
    "dataset_folder = 'DataSet'\n",
    "\n",
    "# List all files in the dataset folder\n",
    "files = os.listdir(dataset_folder)\n",
    "\n",
    "# Read the data from the files (assuming they are CSV files)\n",
    "dataframes = []\n",
    "for file in files:\n",
    "    file_path = os.path.join(dataset_folder, file)\n",
    "    df = pd.read_csv(file_path)\n",
    "    dataframes.append(df)\n",
    "\n",
    "    # Assign each dataframe to a variable based on the stock ticker\n",
    "    adobe_df = dataframes[0]\n",
    "    # amazon_df = dataframes[1]\n",
    "    # apple_df = dataframes[2]\n",
    "    # google_df = dataframes[3]\n",
    "    # intel_df = dataframes[4]\n",
    "    # meta_df = dataframes[5]\n",
    "    # microsoft_df = dataframes[6]\n",
    "    # salesforce_df = dataframes[7]\n",
    "    # stock_data_df = dataframes[8]\n",
    "    # tesla_df = dataframes[9]\n",
    "\n",
    "    # Combine all dataframes into a single dataframe\n",
    "    #combined_df = pd.concat(dataframes, ignore_index=True)\n",
    "# Display the combined dataframe\n",
    "print(adobe_df)"
   ]
  },
  {
   "cell_type": "code",
   "execution_count": 33,
   "metadata": {},
   "outputs": [
    {
     "name": "stdout",
     "output_type": "stream",
     "text": [
      "-1.2817851029440503 [[-1.47906268 -1.49162078 -1.42936362 -1.43497127 -0.58982067]\n",
      " [-1.48768046 -1.50716873 -1.43437192 -1.46220915 -0.81970581]\n",
      " [-1.49681757 -1.49752908 -1.43958877 -1.44245651 -0.65413278]\n",
      " [-1.43597317 -1.48840757 -1.39660195 -1.44578304 -0.30520894]\n",
      " [-1.43950336 -1.44238561 -1.38522925 -1.39920846 -0.44581505]\n",
      " [-1.3737786  -1.41564327 -1.3352517  -1.3723862  -0.79256543]\n",
      " [-1.35394729 -1.39957718 -1.32033158 -1.37903989 -0.87387511]\n",
      " [-1.35924242 -1.37501116 -1.30363758 -1.31853418 -0.54573845]\n",
      " [-1.30244723 -1.35904882 -1.28350061 -1.32893034 -0.43138105]\n",
      " [-1.30857318 -1.35666469 -1.29069989 -1.34649987 -0.46543191]]\n"
     ]
    }
   ],
   "source": [
    "#### Regression model ####\n",
    "# This is the first part of the alogrithm\n",
    "# After this part we will need to create the other model\n",
    "# And we will have to combine both models into a single model that will be able to predict the stock price\n",
    "\n",
    "adobe_df = pd.read_csv('DataSet/ADBE_data.csv')\n",
    "adobe_df.head()\n",
    "\n",
    "\n",
    "adobe_dataset = adobe_df[[\"Open\", \"High\", \"Low\", \"Close\", \"Volume\"]]\n",
    "adobe_dataset = (adobe_dataset - adobe_dataset.mean()) / adobe_dataset.std()\n",
    "input_lenght = 10 # Number of days to use for prediction\n",
    "\n",
    "train_data = []\n",
    "train_data_known_output = []\n",
    "\n",
    "for i in range(0, adobe_dataset.shape[0] - input_lenght -1):\n",
    "    train_data.append(adobe_dataset.loc[adobe_dataset.index[i:i+input_lenght]].to_numpy())\n",
    "    train_data_known_output.append(adobe_dataset[\"Open\"].loc[adobe_dataset.index[i+input_lenght+1]])\n",
    "\n",
    "# Read all the data from the dataset (all the CSVs from the dataset folder)\n",
    "# Import all the data into a epoch x features x days tensor\n",
    "# Normalize the data\n",
    "# Split the data into training and testing data\n",
    "# Create the Model and Train it.\n",
    "\n",
    "print(train_data_known_output[0], train_data[0])"
   ]
  }
 ],
 "metadata": {
  "kernelspec": {
   "display_name": "base",
   "language": "python",
   "name": "python3"
  },
  "language_info": {
   "codemirror_mode": {
    "name": "ipython",
    "version": 3
   },
   "file_extension": ".py",
   "mimetype": "text/x-python",
   "name": "python",
   "nbconvert_exporter": "python",
   "pygments_lexer": "ipython3",
   "version": "3.11.7"
  }
 },
 "nbformat": 4,
 "nbformat_minor": 2
}
